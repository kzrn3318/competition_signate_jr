{
 "cells": [
  {
   "cell_type": "code",
   "execution_count": 3,
   "metadata": {},
   "outputs": [],
   "source": [
    "out_name = \"result_infoTag15.csv\""
   ]
  },
  {
   "cell_type": "code",
   "execution_count": 4,
   "metadata": {},
   "outputs": [],
   "source": [
    "import pandas as pd\n",
    "test_df = pd.read_csv(\"../enginier_data/test.csv\")\n",
    "sample = pd.read_csv(\"../sample_submit.csv\",names=[\"id\",\"delayTime\"],header=None)\n",
    "sample = sample.merge(test_df[[\"id\", \"delayTime\"]], on=\"id\", how=\"left\")\n",
    "sample = sample.drop(\"delayTime_x\",axis=1).rename(columns={\"delayTime_y\":\"delayTime\"})\n",
    "sample.to_csv(\"../output/{}.csv\".format(out_name),header=None,index=False)"
   ]
  },
  {
   "cell_type": "code",
   "execution_count": null,
   "metadata": {},
   "outputs": [],
   "source": []
  }
 ],
 "metadata": {
  "kernelspec": {
   "display_name": "Python 3",
   "language": "python",
   "name": "python3"
  },
  "language_info": {
   "codemirror_mode": {
    "name": "ipython",
    "version": 3
   },
   "file_extension": ".py",
   "mimetype": "text/x-python",
   "name": "python",
   "nbconvert_exporter": "python",
   "pygments_lexer": "ipython3",
   "version": "3.8.3"
  }
 },
 "nbformat": 4,
 "nbformat_minor": 4
}

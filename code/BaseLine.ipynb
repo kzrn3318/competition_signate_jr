{
 "cells": [
  {
   "cell_type": "code",
   "execution_count": 7,
   "metadata": {},
   "outputs": [],
   "source": [
    "import pandas as pd\n",
    "test_df = pd.read_csv(\"../test.csv\")\n",
    "\n",
    "sample = pd.read_csv(\"../sample_submit.csv\",names=[\"id\",\"delayTime\"],header=None)"
   ]
  },
  {
   "cell_type": "code",
   "execution_count": 8,
   "metadata": {},
   "outputs": [],
   "source": [
    "test_df[\"HTime\"] = test_df[\"planArrival\"].apply(lambda x:x.split(\":\")[0]).values"
   ]
  },
  {
   "cell_type": "code",
   "execution_count": 9,
   "metadata": {},
   "outputs": [
    {
     "data": {
      "text/plain": [
       "'\\ntest_df[\"delayTime\"] = test_df.groupby([\"date\", \"trainNo\",\"lineName\"]).delayTime.transform(\\n    lambda x: x.fillna(method=\"ffill\").apply(lambda x:40 if x>=35 and 45>=x else x)\\n)\\n'"
      ]
     },
     "execution_count": 9,
     "metadata": {},
     "output_type": "execute_result"
    }
   ],
   "source": [
    "test_df[\"delayTime\"] = test_df.groupby([\"date\", \"trainNo\",\"lineName\"]).delayTime.transform(\n",
    "    lambda x: x.fillna(method=\"ffill\").fillna(0).apply(lambda x:100 if x>100 else x)\n",
    ")\n",
    "test_df[\"delayTime\"] = test_df[\"delayTime\"].apply(lambda x:80 if x>=80 and 82>x else x)\n",
    "test_df[\"delayTime\"] = test_df[\"delayTime\"].apply(lambda x:82 if x>=82 and 84>x else x)\n",
    "test_df[\"delayTime\"] = test_df[\"delayTime\"].apply(lambda x:84 if x>=84 and 86>x else x)\n",
    "test_df[\"delayTime\"] = test_df[\"delayTime\"].apply(lambda x:86 if x>=86 and 88>x else x)\n",
    "test_df[\"delayTime\"] = test_df[\"delayTime\"].apply(lambda x:88 if x>=88 and 90>x else x)\n",
    "\n",
    "test_df[\"delayTime\"] = test_df[\"delayTime\"].apply(lambda x:90 if x>=90 and 92>x else x)\n",
    "test_df[\"delayTime\"] = test_df[\"delayTime\"].apply(lambda x:92 if x>=92 and 94>x else x)\n",
    "test_df[\"delayTime\"] = test_df[\"delayTime\"].apply(lambda x:94 if x>=94 and 96>x else x)\n",
    "test_df[\"delayTime\"] = test_df[\"delayTime\"].apply(lambda x:96 if x>=96 and 98>x else x)\n",
    "test_df[\"delayTime\"] = test_df[\"delayTime\"].apply(lambda x:98 if x>=98 and 100>x else x)\n",
    "\"\"\"\n",
    "test_df[\"delayTime\"] = test_df.groupby([\"date\", \"trainNo\",\"lineName\"]).delayTime.transform(\n",
    "    lambda x: x.fillna(method=\"ffill\").apply(lambda x:40 if x>=35 and 45>=x else x)\n",
    ")\n",
    "\"\"\""
   ]
  },
  {
   "cell_type": "code",
   "execution_count": 10,
   "metadata": {},
   "outputs": [],
   "source": [
    "sample = sample.merge(test_df[[\"id\", \"delayTime\"]], on=\"id\", how=\"left\")\n",
    "sample = sample.drop(\"delayTime_x\",axis=1).rename(columns={\"delayTime_y\":\"delayTime\"})\n",
    "sample.to_csv(\"../output/aResult.csv\",header=None,index=False)"
   ]
  },
  {
   "cell_type": "code",
   "execution_count": 11,
   "metadata": {},
   "outputs": [
    {
     "name": "stdout",
     "output_type": "stream",
     "text": [
      "max : 100.0 | min : 0.0\n"
     ]
    }
   ],
   "source": [
    "print(\"max : {} | min : {}\".format(max(sample[\"delayTime\"]),min(sample[\"delayTime\"])))"
   ]
  },
  {
   "cell_type": "code",
   "execution_count": 6,
   "metadata": {},
   "outputs": [],
   "source": [
    "## ../output/result_clip_100.csv"
   ]
  }
 ],
 "metadata": {
  "kernelspec": {
   "display_name": "Python 3",
   "language": "python",
   "name": "python3"
  },
  "language_info": {
   "codemirror_mode": {
    "name": "ipython",
    "version": 3
   },
   "file_extension": ".py",
   "mimetype": "text/x-python",
   "name": "python",
   "nbconvert_exporter": "python",
   "pygments_lexer": "ipython3",
   "version": "3.8.3"
  }
 },
 "nbformat": 4,
 "nbformat_minor": 4
}
